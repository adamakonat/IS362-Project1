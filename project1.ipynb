{
  "metadata": {
    "language_info": {
      "codemirror_mode": {
        "name": "python",
        "version": 3
      },
      "file_extension": ".py",
      "mimetype": "text/x-python",
      "name": "python",
      "nbconvert_exporter": "python",
      "pygments_lexer": "ipython3",
      "version": "3.8"
    },
    "kernelspec": {
      "name": "python",
      "display_name": "Python (Pyodide)",
      "language": "python"
    }
  },
  "nbformat_minor": 4,
  "nbformat": 4,
  "cells": [
    {
      "cell_type": "markdown",
      "source": "(1) Creating a .CSV file and (2) comparing the arrival delays for the\ntwo airlines.",
      "metadata": {}
    },
    {
      "cell_type": "code",
      "source": "import pandas as pd\nimport os",
      "metadata": {
        "trusted": true
      },
      "execution_count": 2,
      "outputs": []
    },
    {
      "cell_type": "code",
      "source": "data",
      "metadata": {
        "trusted": true
      },
      "execution_count": 4,
      "outputs": [
        {
          "execution_count": 4,
          "output_type": "execute_result",
          "data": {
            "text/plain": "   Airline   Status  Los Angeles  Phoenix  San Diego  San Francisco  Seattle\n0   Alaska  on time          497      221        212            503     1841\n1   Alaska  delayed           62       12         20            102      305\n2  AM West  on time          694     4840        383            320      201\n3  AM West  delayed          117      415         65            129       61",
            "text/html": "<div>\n<style scoped>\n    .dataframe tbody tr th:only-of-type {\n        vertical-align: middle;\n    }\n\n    .dataframe tbody tr th {\n        vertical-align: top;\n    }\n\n    .dataframe thead th {\n        text-align: right;\n    }\n</style>\n<table border=\"1\" class=\"dataframe\">\n  <thead>\n    <tr style=\"text-align: right;\">\n      <th></th>\n      <th>Airline</th>\n      <th>Status</th>\n      <th>Los Angeles</th>\n      <th>Phoenix</th>\n      <th>San Diego</th>\n      <th>San Francisco</th>\n      <th>Seattle</th>\n    </tr>\n  </thead>\n  <tbody>\n    <tr>\n      <th>0</th>\n      <td>Alaska</td>\n      <td>on time</td>\n      <td>497</td>\n      <td>221</td>\n      <td>212</td>\n      <td>503</td>\n      <td>1841</td>\n    </tr>\n    <tr>\n      <th>1</th>\n      <td>Alaska</td>\n      <td>delayed</td>\n      <td>62</td>\n      <td>12</td>\n      <td>20</td>\n      <td>102</td>\n      <td>305</td>\n    </tr>\n    <tr>\n      <th>2</th>\n      <td>AM West</td>\n      <td>on time</td>\n      <td>694</td>\n      <td>4840</td>\n      <td>383</td>\n      <td>320</td>\n      <td>201</td>\n    </tr>\n    <tr>\n      <th>3</th>\n      <td>AM West</td>\n      <td>delayed</td>\n      <td>117</td>\n      <td>415</td>\n      <td>65</td>\n      <td>129</td>\n      <td>61</td>\n    </tr>\n  </tbody>\n</table>\n</div>"
          },
          "metadata": {}
        }
      ]
    },
    {
      "cell_type": "code",
      "source": "data = pd.read_csv('project1.csv')",
      "metadata": {
        "trusted": true
      },
      "execution_count": 3,
      "outputs": []
    },
    {
      "cell_type": "markdown",
      "source": "#Calculating avg delays per airline",
      "metadata": {}
    },
    {
      "cell_type": "code",
      "source": "avg_delays = (airline_data[airline_data['Status'] == 'delayed'].head())\n\navg_delays",
      "metadata": {
        "trusted": true
      },
      "execution_count": 5,
      "outputs": [
        {
          "execution_count": 5,
          "output_type": "execute_result",
          "data": {
            "text/plain": "   Airline   Status  Los Angeles  Phoenix  San Diego  San Francisco  Seattle\n1   Alaska  delayed           62       12         20            102      305\n3  AM West  delayed          117      415         65            129       61",
            "text/html": "<div>\n<style scoped>\n    .dataframe tbody tr th:only-of-type {\n        vertical-align: middle;\n    }\n\n    .dataframe tbody tr th {\n        vertical-align: top;\n    }\n\n    .dataframe thead th {\n        text-align: right;\n    }\n</style>\n<table border=\"1\" class=\"dataframe\">\n  <thead>\n    <tr style=\"text-align: right;\">\n      <th></th>\n      <th>Airline</th>\n      <th>Status</th>\n      <th>Los Angeles</th>\n      <th>Phoenix</th>\n      <th>San Diego</th>\n      <th>San Francisco</th>\n      <th>Seattle</th>\n    </tr>\n  </thead>\n  <tbody>\n    <tr>\n      <th>1</th>\n      <td>Alaska</td>\n      <td>delayed</td>\n      <td>62</td>\n      <td>12</td>\n      <td>20</td>\n      <td>102</td>\n      <td>305</td>\n    </tr>\n    <tr>\n      <th>3</th>\n      <td>AM West</td>\n      <td>delayed</td>\n      <td>117</td>\n      <td>415</td>\n      <td>65</td>\n      <td>129</td>\n      <td>61</td>\n    </tr>\n  </tbody>\n</table>\n</div>"
          },
          "metadata": {}
        }
      ]
    },
    {
      "cell_type": "markdown",
      "source": "#Group by airline and status and compare the average delayed and on time flights from both airlines.",
      "metadata": {}
    },
    {
      "cell_type": "code",
      "source": "data.groupby(['Airline', 'Status']).mean()",
      "metadata": {
        "trusted": true
      },
      "execution_count": 13,
      "outputs": [
        {
          "execution_count": 13,
          "output_type": "execute_result",
          "data": {
            "text/plain": "                 Los Angeles  Phoenix  San Diego  San Francisco  Seattle\nAirline Status                                                          \nAM West delayed        117.0    415.0       65.0          129.0     61.0\n        on time        694.0   4840.0      383.0          320.0    201.0\nAlaska  delayed         62.0     12.0       20.0          102.0    305.0\n        on time        497.0    221.0      212.0          503.0   1841.0",
            "text/html": "<div>\n<style scoped>\n    .dataframe tbody tr th:only-of-type {\n        vertical-align: middle;\n    }\n\n    .dataframe tbody tr th {\n        vertical-align: top;\n    }\n\n    .dataframe thead th {\n        text-align: right;\n    }\n</style>\n<table border=\"1\" class=\"dataframe\">\n  <thead>\n    <tr style=\"text-align: right;\">\n      <th></th>\n      <th></th>\n      <th>Los Angeles</th>\n      <th>Phoenix</th>\n      <th>San Diego</th>\n      <th>San Francisco</th>\n      <th>Seattle</th>\n    </tr>\n    <tr>\n      <th>Airline</th>\n      <th>Status</th>\n      <th></th>\n      <th></th>\n      <th></th>\n      <th></th>\n      <th></th>\n    </tr>\n  </thead>\n  <tbody>\n    <tr>\n      <th rowspan=\"2\" valign=\"top\">AM West</th>\n      <th>delayed</th>\n      <td>117.0</td>\n      <td>415.0</td>\n      <td>65.0</td>\n      <td>129.0</td>\n      <td>61.0</td>\n    </tr>\n    <tr>\n      <th>on time</th>\n      <td>694.0</td>\n      <td>4840.0</td>\n      <td>383.0</td>\n      <td>320.0</td>\n      <td>201.0</td>\n    </tr>\n    <tr>\n      <th rowspan=\"2\" valign=\"top\">Alaska</th>\n      <th>delayed</th>\n      <td>62.0</td>\n      <td>12.0</td>\n      <td>20.0</td>\n      <td>102.0</td>\n      <td>305.0</td>\n    </tr>\n    <tr>\n      <th>on time</th>\n      <td>497.0</td>\n      <td>221.0</td>\n      <td>212.0</td>\n      <td>503.0</td>\n      <td>1841.0</td>\n    </tr>\n  </tbody>\n</table>\n</div>"
          },
          "metadata": {}
        }
      ]
    },
    {
      "cell_type": "code",
      "source": "data.groupby(['Airline','Status']).plot()",
      "metadata": {
        "trusted": true
      },
      "execution_count": 19,
      "outputs": [
        {
          "execution_count": 19,
          "output_type": "execute_result",
          "data": {
            "text/plain": "Airline  Status \nAM West  delayed    AxesSubplot(0.125,0.11;0.775x0.77)\n         on time    AxesSubplot(0.125,0.11;0.775x0.77)\nAlaska   delayed    AxesSubplot(0.125,0.11;0.775x0.77)\n         on time    AxesSubplot(0.125,0.11;0.775x0.77)\ndtype: object"
          },
          "metadata": {}
        }
      ]
    },
    {
      "cell_type": "markdown",
      "source": "#Conclusion:\nThe output of the code written based on the data from a csv file shows that the airline AM WEST had more delays at every location except for Seattle, where ALASKA airline had more delays. The third table is one that shows the mean delays by location, where Phoenix had the most delays and San Diego had the lowest.",
      "metadata": {}
    }
  ]
}